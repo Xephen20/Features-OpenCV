{
 "cells": [
  {
   "cell_type": "code",
   "execution_count": 1,
   "id": "b96c2148-8256-47cd-8484-c212a22cd485",
   "metadata": {
    "execution": {
     "iopub.execute_input": "2022-01-10T10:43:36.935954Z",
     "iopub.status.busy": "2022-01-10T10:43:36.935413Z",
     "iopub.status.idle": "2022-01-10T10:43:37.893837Z",
     "shell.execute_reply": "2022-01-10T10:43:37.893240Z",
     "shell.execute_reply.started": "2022-01-10T10:43:36.935825Z"
    },
    "tags": []
   },
   "outputs": [
    {
     "data": {
      "image/png": "[encoded data removed]",
      "text/plain": [
       "<Figure size 720x288 with 1 Axes>"
      ]
     },
     "metadata": {
      "needs_background": "light"
     },
     "output_type": "display_data"
    }
   ],
   "source": [
    "import shapely.geometry\n",
    "import shapely.affinity\n",
    "import numpy as np\n",
    "\n",
    "class RotatedRect:\n",
    "    def __init__(self, cx, cy, w, h, angle):\n",
    "        self.cx = cx\n",
    "        self.cy = cy\n",
    "        self.w = w\n",
    "        self.h = h\n",
    "        self.angle = angle\n",
    "\n",
    "    def get_contour(self):\n",
    "        w = self.w\n",
    "        h = self.h\n",
    "        c = shapely.geometry.box(-w/2.0, -h/2.0, w/2.0, h/2.0)\n",
    "        rc = shapely.affinity.rotate(c, self.angle)\n",
    "        return shapely.affinity.translate(rc, self.cx, self.cy)\n",
    "\n",
    "    def intersection(self, other):\n",
    "        return self.get_contour().intersection(other.get_contour())\n",
    "\n",
    "\n",
    "r1 = RotatedRect(10, 15, 15, 10, 30)\n",
    "r2 = RotatedRect(15, 15, 20, 10, 0)\n",
    "#rects = [(715827,633915,574860,656772),(938844,818845,817765,937764),(1131820,1016852,994775,1109743),(285789,165796,160716,280709),(117722,-1708,8629,127643),(1238675,1120698,1105620,1223597),(835688,727635,762563,870616),(667577,583492,640436,724521),(526490,424426,467359,569423),(398404,280382,295303,413325),(222308,110264,139189,251233)]\n",
    "#r1 = rects[0]\n",
    "\n",
    "from matplotlib import pyplot\n",
    "from descartes import PolygonPatch\n",
    "\n",
    "fig = pyplot.figure(1, figsize=(10, 4))\n",
    "ax = fig.add_subplot(121)\n",
    "ax.set_xlim(0, 30)\n",
    "ax.set_ylim(0, 30)\n",
    "\n",
    "ax.add_patch(PolygonPatch(r1.get_contour(), fc='#990000', alpha=0.7))\n",
    "ax.add_patch(PolygonPatch(r2.get_contour(), fc='#000099', alpha=0.7))\n",
    "ax.add_patch(PolygonPatch(r1.intersection(r2), fc='#009900', alpha=1))\n",
    "\n",
    "pyplot.show()"
   ]
  }
 ],
 "metadata": {
  "kernelspec": {
   "display_name": "Python 3",
   "language": "python",
   "name": "python3"
  },
  "language_info": {
   "codemirror_mode": {
    "name": "ipython",
    "version": 3
   },
   "file_extension": ".py",
   "mimetype": "text/x-python",
   "name": "python",
   "nbconvert_exporter": "python",
   "pygments_lexer": "ipython3",
   "version": "3.8.10"
  }
 },
 "nbformat": 4,
 "nbformat_minor": 5
}
