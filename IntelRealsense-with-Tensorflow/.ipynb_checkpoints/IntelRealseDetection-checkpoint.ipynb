{
 "cells": [
  {
   "cell_type": "code",
   "execution_count": 3,
   "id": "e3efa0e1-9556-468e-b416-be6afb906b93",
   "metadata": {
    "execution": {
     "iopub.execute_input": "2022-01-10T14:12:38.222972Z",
     "iopub.status.busy": "2022-01-10T14:12:38.222535Z",
     "iopub.status.idle": "2022-01-10T14:12:40.706851Z",
     "shell.execute_reply": "2022-01-10T14:12:40.705545Z",
     "shell.execute_reply.started": "2022-01-10T14:12:38.222931Z"
    },
    "tags": []
   },
   "outputs": [],
   "source": [
    "import tensorflow_hub as hub\n",
    "import tensorflow as tf\n",
    "import cv2 as cv\n",
    "import numpy as np\n",
    "import pandas as pd\n",
    "import pyrealsense2 as rs"
   ]
  },
  {
   "cell_type": "code",
   "execution_count": 4,
   "id": "a6b74630-4dd5-42ec-86c0-94a538077886",
   "metadata": {
    "execution": {
     "iopub.execute_input": "2022-01-10T14:12:40.709790Z",
     "iopub.status.busy": "2022-01-10T14:12:40.708892Z",
     "iopub.status.idle": "2022-01-10T14:12:55.366916Z",
     "shell.execute_reply": "2022-01-10T14:12:55.366286Z",
     "shell.execute_reply.started": "2022-01-10T14:12:40.709708Z"
    },
    "tags": []
   },
   "outputs": [],
   "source": [
    "detector = tf.saved_model.load(\"/home/dawid/repos/OpenCV-Features/Pretrained\")\n",
    "label_path = \"/home/dawid/repos/OpenCV-Features/Pretrained/labels.csv\""
   ]
  },
  {
   "cell_type": "code",
   "execution_count": 9,
   "id": "cb0d406e-0455-4690-9509-12c200e31555",
   "metadata": {
    "execution": {
     "iopub.execute_input": "2022-01-10T14:15:42.520621Z",
     "iopub.status.busy": "2022-01-10T14:15:42.520347Z",
     "iopub.status.idle": "2022-01-10T14:15:42.968661Z",
     "shell.execute_reply": "2022-01-10T14:15:42.967982Z",
     "shell.execute_reply.started": "2022-01-10T14:15:42.520597Z"
    },
    "tags": []
   },
   "outputs": [],
   "source": [
    "# Configure depth and color streams\n",
    "pipeline = rs.pipeline()\n",
    "config = rs.config()\n",
    "\n",
    "# Get device product line for setting a supporting resolution\n",
    "pipeline_wrapper = rs.pipeline_wrapper(pipeline)\n",
    "pipeline_profile = config.resolve(pipeline_wrapper)\n",
    "device = pipeline_profile.get_device()\n",
    "device_product_line = str(device.get_info(rs.camera_info.product_line))\n",
    "found_rgb = False\n",
    "for s in device.sensors:\n",
    "    if s.get_info(rs.camera_info.name) == 'RGB Camera':\n",
    "        found_rgb = True\n",
    "        break\n",
    "\n",
    "config.enable_stream(rs.stream.color, 640, 480, rs.format.bgr8, 30)\n",
    "\n",
    "# Start streaming\n",
    "pipeline.start(config)\n",
    "\n",
    "def image():\n",
    "    frames = pipeline.wait_for_frames()\n",
    "    color_frame = frames.get_color_frame()\n",
    "\n",
    "\n",
    "    color_image = np.asanyarray(color_frame.get_data())\n",
    "    return color_image"
   ]
  },
  {
   "cell_type": "code",
   "execution_count": 55,
   "id": "74e21365-0bc7-4618-9734-803a2284e74f",
   "metadata": {
    "execution": {
     "iopub.execute_input": "2022-01-10T15:00:52.349045Z",
     "iopub.status.busy": "2022-01-10T15:00:52.347822Z",
     "iopub.status.idle": "2022-01-10T15:11:42.625171Z",
     "shell.execute_reply": "2022-01-10T15:11:42.624082Z",
     "shell.execute_reply.started": "2022-01-10T15:00:52.348933Z"
    },
    "tags": []
   },
   "outputs": [],
   "source": [
    "class Solution:\n",
    "    def isRectangleOverlap(self, R1, R2):\n",
    "        if (R1[0]>=R2[2]) or (R1[2]<=R2[0]) or (R1[3]<=R2[1]) or (R1[1]>=R2[3]):\n",
    "            return False\n",
    "        else:\n",
    "            return True\n",
    "ob = Solution()\n",
    "\n",
    "while True:\n",
    "    \n",
    "    frame = image()\n",
    "\n",
    "    rgb = frame\n",
    "\n",
    "    rgb_tensor = tf.convert_to_tensor(rgb, dtype=tf.uint8)\n",
    "    rgb_tensor = tf.expand_dims(rgb_tensor, 0)\n",
    "    rgb_tensor\n",
    "\n",
    "    label = pd.read_csv(label_path, sep=';', index_col='ID')\n",
    "    labels = label['OBJECT (2017 REL.)']\n",
    "\n",
    "    boxes, scores, classes, num_detection = detector(rgb_tensor)\n",
    "    num_detection\n",
    "\n",
    "    pred_labels = classes.numpy().astype('int')[0]\n",
    "    pred_labels = [labels[i] for i in pred_labels]\n",
    "\n",
    "    pred_boxes = boxes.numpy()[0].astype('int')\n",
    "    pred_scores = scores.numpy()[0]\n",
    "\n",
    "    for score, (ymin, xmin, ymax, xmax), label in zip(pred_scores, pred_boxes, pred_labels):\n",
    "        if score < 0.5:\n",
    "            continue\n",
    "        \n",
    "        score_txt = f\"{100 * round(score)}%\"\n",
    "        img_boxes = cv.rectangle(rgb, (xmin, ymin), (xmax,ymax), (0,255,0), 2)\n",
    "        font = cv.FONT_HERSHEY_SIMPLEX\n",
    "        cv.rectangle(img_boxes, (xmin, ymin), (xmax, ymin-24), (150, 255, 0), -1)\n",
    "        cv.putText(img_boxes, \"%s\"%label+\" %s\"%score_txt, (xmin, ymin-5), font, 0.7, (0, 0, 0), 1, cv.LINE_AA)\n",
    "        if label == 'person':\n",
    "            \n",
    "            if ymin > 161 and xmax-xmin < 230:\n",
    "                \n",
    "                if ob.isRectangleOverlap([121, 183, 223, 414], [xmin,ymin,xmax,ymax]) == True:\n",
    "                    cv.rectangle(img_boxes, (0,0), (260, 45), (150, 255, 0), -1)\n",
    "                    cv.putText(img_boxes, \"Someone's in the kitchen\", (10, 29), cv.FONT_HERSHEY_SIMPLEX, 0.6, (0,0,0), 1, cv.LINE_AA)\n",
    "\n",
    "    \n",
    "    cv.imshow('frame', rgb)\n",
    "    if cv.waitKey(1) == ord('q'):\n",
    "        cv.destroyAllWindows()\n",
    "        break"
   ]
  }
 ],
 "metadata": {
  "kernelspec": {
   "display_name": "Python 3",
   "language": "python",
   "name": "python3"
  },
  "language_info": {
   "codemirror_mode": {
    "name": "ipython",
    "version": 3
   },
   "file_extension": ".py",
   "mimetype": "text/x-python",
   "name": "python",
   "nbconvert_exporter": "python",
   "pygments_lexer": "ipython3",
   "version": "3.8.10"
  }
 },
 "nbformat": 4,
 "nbformat_minor": 5
}
